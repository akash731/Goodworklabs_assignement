{
 "cells": [
  {
   "cell_type": "code",
   "execution_count": 23,
   "metadata": {
    "collapsed": true
   },
   "outputs": [],
   "source": [
    "import pandas as pd\n",
    "import numpy as np\n",
    "import math\n",
    "from sklearn.model_selection import train_test_split\n",
    "from sklearn.linear_model import RidgeCV\n",
    "from sklearn.model_selection import validation_curve\n",
    "from sklearn.linear_model import Ridge\n",
    "import matplotlib.pyplot as plt"
   ]
  },
  {
   "cell_type": "markdown",
   "metadata": {},
   "source": [
    "# Import Data"
   ]
  },
  {
   "cell_type": "code",
   "execution_count": 24,
   "metadata": {
    "collapsed": true
   },
   "outputs": [],
   "source": [
    "inp_data_frame=pd.read_excel('Data.xlsx')\n",
    "for i in inp_data_frame.keys():\n",
    "    inp_data_frame[i]=inp_data_frame[i].astype(str)"
   ]
  },
  {
   "cell_type": "markdown",
   "metadata": {},
   "source": [
    "# Clean Data"
   ]
  },
  {
   "cell_type": "code",
   "execution_count": 25,
   "metadata": {
    "collapsed": true
   },
   "outputs": [],
   "source": [
    "inp_data_frame=inp_data_frame.replace(u'\\xa0',np.nan)\n",
    "inp_data_frame=inp_data_frame.dropna()\n",
    "inp_data_frame=inp_data_frame.reset_index(drop=True)\n",
    "states_encoding={j:i for i,j in enumerate(inp_data_frame.State.unique().tolist())}\n",
    "inp_data_frame['State']=inp_data_frame.State.map(states_encoding)"
   ]
  },
  {
   "cell_type": "markdown",
   "metadata": {},
   "source": [
    "# Define Normalization Function\n",
    "\n",
    "Formula used to normalize the data is below:\n",
    "\n",
    "x[i]=x[i]/sqrt(sum(x*x))\n",
    "\n",
    "so that all the values are on the same scale across the features, also the intercept and weights for each feature are on the same scale.\n"
   ]
  },
  {
   "cell_type": "code",
   "execution_count": 26,
   "metadata": {
    "collapsed": true
   },
   "outputs": [],
   "source": [
    "def normalize(x):\n",
    "    y=x*x\n",
    "    \n",
    "    y=math.sqrt(y.sum())\n",
    "    return(x/y)\n",
    "    "
   ]
  },
  {
   "cell_type": "markdown",
   "metadata": {},
   "source": [
    "# Normalizing the data and replacing missing data with mean value "
   ]
  },
  {
   "cell_type": "code",
   "execution_count": 22,
   "metadata": {
    "collapsed": true
   },
   "outputs": [],
   "source": [
    "for i in inp_data_frame.keys():\n",
    "    inp_data_frame[i]=inp_data_frame[i].astype(float)\n",
    "    if(i!='State'):\n",
    "        inp_data_frame[i]=inp_data_frame[i].replace(0,inp_data_frame[i].mean())\n",
    "    inp_data_frame[i]=normalize( inp_data_frame[i])"
   ]
  },
  {
   "cell_type": "markdown",
   "metadata": {
    "collapsed": true
   },
   "source": [
    "# Split data into Train And Test"
   ]
  },
  {
   "cell_type": "code",
   "execution_count": 16,
   "metadata": {
    "collapsed": true
   },
   "outputs": [],
   "source": [
    "train, test = train_test_split(inp_data_frame, test_size=0.3)\n",
    "Xtrain=train[['R&D Spend', 'Administration', 'Marketing Spend', 'State', 'Profit']]\n",
    "Ytrain=train['Profit']\n",
    "Xtest=test[['R&D Spend', 'Administration', 'Marketing Spend', 'State', 'Profit']]\n",
    "Ytest=test['Profit']\n",
    "\n",
    "X=train[['R&D Spend', 'Administration', 'Marketing Spend', 'State', 'Profit']]\n",
    "Y=train['Profit']"
   ]
  },
  {
   "cell_type": "markdown",
   "metadata": {},
   "source": [
    "# Used Ridge Regression with Cross validation value of 5\n",
    "\n",
    "1.Used Ridge regression to avoid overfitting of data and normalize the bias variance tradeoff\n",
    "2.Used Cross validation to avoid overfitting during model creation and selection with standard value of 5 folds\n"
   ]
  },
  {
   "cell_type": "code",
   "execution_count": 17,
   "metadata": {
    "collapsed": true
   },
   "outputs": [],
   "source": [
    "model=RidgeCV(alphas=(0.0001,0.001,0.01,0.1, 1.0, 10.0), fit_intercept=True, \n",
    "        normalize=False, \n",
    "        scoring=None,\n",
    "        cv=5, \n",
    "        gcv_mode=None,\n",
    "        store_cv_values=False)\n"
   ]
  },
  {
   "cell_type": "markdown",
   "metadata": {},
   "source": [
    "# Fit Train Data"
   ]
  },
  {
   "cell_type": "code",
   "execution_count": 18,
   "metadata": {},
   "outputs": [
    {
     "data": {
      "text/plain": [
       "RidgeCV(alphas=(0.0001, 0.001, 0.01, 0.1, 1.0, 10.0), cv=5,\n",
       "    fit_intercept=True, gcv_mode=None, normalize=False, scoring=None,\n",
       "    store_cv_values=False)"
      ]
     },
     "execution_count": 18,
     "metadata": {},
     "output_type": "execute_result"
    }
   ],
   "source": [
    "model.fit(Xtrain,\n",
    "         Ytrain\n",
    "         )"
   ]
  },
  {
   "cell_type": "markdown",
   "metadata": {},
   "source": [
    "# Check  Test Data and calculate r2 value"
   ]
  },
  {
   "cell_type": "code",
   "execution_count": 19,
   "metadata": {},
   "outputs": [
    {
     "name": "stdout",
     "output_type": "stream",
     "text": [
      "0.999997716183\n"
     ]
    }
   ],
   "source": [
    "yhat=model.predict(Xtest)\n",
    "y=np.array(Ytest)\n",
    "SS_Residual = sum((y-yhat)**2)\n",
    "SS_Total = sum((y-np.mean(y))**2)\n",
    "r_squared = 1 - (float(SS_Residual))/SS_Total\n",
    "\n",
    "print(r_squared)"
   ]
  },
  {
   "cell_type": "markdown",
   "metadata": {},
   "source": [
    "# calculate the change in errors acroos train and validation for different values of alpha"
   ]
  },
  {
   "cell_type": "code",
   "execution_count": 20,
   "metadata": {},
   "outputs": [
    {
     "data": {
      "image/png": "[encoded data removed]",
      "text/plain": [
       "<matplotlib.figure.Figure at 0x7f8727363fd0>"
      ]
     },
     "metadata": {},
     "output_type": "display_data"
    }
   ],
   "source": [
    "train_scores, valid_scores = validation_curve(Ridge(),X , Y,\"alpha\",\n",
    "                                                  [0.0001, 0.001, 0.01, 0.1, 1.0, 10.0,100,1000,100000,10000000])\n",
    "trainerror=[]\n",
    "validerror=[]\n",
    "for i,j in zip(train_scores,valid_scores):\n",
    "    trainerror.append(i.mean())\n",
    "    validerror.append(j.mean())\n",
    "plt.plot(trainerror)\n",
    "plt.plot(validerror)\n",
    "plt.show()"
   ]
  },
  {
   "cell_type": "code",
   "execution_count": null,
   "metadata": {
    "collapsed": true
   },
   "outputs": [],
   "source": []
  }
 ],
 "metadata": {
  "kernelspec": {
   "display_name": "Python 3",
   "language": "python",
   "name": "python3"
  },
  "language_info": {
   "codemirror_mode": {
    "name": "ipython",
    "version": 3
   },
   "file_extension": ".py",
   "mimetype": "text/x-python",
   "name": "python",
   "nbconvert_exporter": "python",
   "pygments_lexer": "ipython3",
   "version": "3.6.3"
  }
 },
 "nbformat": 4,
 "nbformat_minor": 2
}
